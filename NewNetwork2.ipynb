{
 "cells": [
  {
   "cell_type": "code",
   "execution_count": 1,
   "id": "ced2c0ed-26ca-4f5d-a473-f9a962fa81d9",
   "metadata": {},
   "outputs": [],
   "source": [
    "import torch\n",
    "import torch.nn as nn\n",
    "import matplotlib.pyplot as plt\n",
    "from torch.utils.data import DataLoader\n",
    "from torchvision import datasets, transforms\n",
    "import numpy as np\n",
    "from IPython.display import display, clear_output\n",
    "import time\n",
    "from torchvision import datasets, transforms"
   ]
  },
  {
   "cell_type": "code",
   "execution_count": 2,
   "id": "e515332a-e51b-495d-b8a1-ec3d4b4f6ce4",
   "metadata": {},
   "outputs": [],
   "source": [
    "device = torch.device('cuda:7' if torch.cuda.is_available() else 'cpu')"
   ]
  },
  {
   "cell_type": "code",
   "execution_count": 3,
   "id": "2ec2f566-9d74-4995-9bc4-1f4626e7008e",
   "metadata": {},
   "outputs": [],
   "source": [
    "def show_image(tensor):\n",
    "    # Ensure the input is a 2D tensor of shape 28x28\n",
    "    if tensor.shape != (28, 28):\n",
    "        raise ValueError(\"Input tensor must be of shape 28x28\")\n",
    "    \n",
    "    # Convert tensor to numpy array if it's a PyTorch tensor\n",
    "    if isinstance(tensor, torch.Tensor):\n",
    "        tensor = tensor.cpu().numpy()\n",
    "\n",
    "    # Display the image\n",
    "    plt.imshow(tensor, cmap='gray')\n",
    "    plt.title(\"28x28 Image\")\n",
    "    plt.axis('off')\n",
    "    plt.show()"
   ]
  },
  {
   "cell_type": "markdown",
   "id": "3c5c06a3-94b1-4ff8-b896-aaa87bf6bcfa",
   "metadata": {},
   "source": [
    "# Data"
   ]
  },
  {
   "cell_type": "code",
   "execution_count": 4,
   "id": "8ec44035-f539-4b3f-800f-329072ac9c71",
   "metadata": {},
   "outputs": [],
   "source": [
    "# Define the transformation\n",
    "transform = transforms.Compose([transforms.ToTensor()])\n",
    "\n",
    "# Load the MNIST training dataset\n",
    "train_dataset = datasets.MNIST(root='./data', train=True, download=True, transform=transform)\n",
    "\n",
    "# Load the MNIST test dataset\n",
    "test_dataset = datasets.MNIST(root='./data', train=False, download=True, transform=transform)\n",
    "\n",
    "# Convert the datasets to single tensors\n",
    "train_loader = torch.utils.data.DataLoader(train_dataset, batch_size=len(train_dataset))\n",
    "test_loader = torch.utils.data.DataLoader(test_dataset, batch_size=len(test_dataset))\n",
    "\n",
    "train_data, train_labels = next(iter(train_loader))\n",
    "test_data, test_labels = next(iter(test_loader))\n",
    "\n",
    "# Move data to GPU\n",
    "train_data, train_labels = train_data.to(device), train_labels.to(device)\n",
    "test_data, test_labels = test_data.to(device), test_labels.to(device)"
   ]
  },
  {
   "cell_type": "markdown",
   "id": "da18ffb9-0973-4901-a5d2-8264b42dde68",
   "metadata": {},
   "source": [
    "### Warmup :Extracting 100 samples per class for the initialization"
   ]
  },
  {
   "cell_type": "code",
   "execution_count": 245,
   "id": "67b46212-0571-4692-ab11-cceefd214166",
   "metadata": {},
   "outputs": [
    {
     "name": "stdout",
     "output_type": "stream",
     "text": [
      "Extracted data shape: torch.Size([1000, 1, 28, 28])\n",
      "Remaining data shape: torch.Size([59000, 1, 28, 28])\n"
     ]
    }
   ],
   "source": [
    "# Initialize containers for the extracted samples\n",
    "num_classes = 10\n",
    "samples_per_class = 100\n",
    "extracted_data = []\n",
    "extracted_labels = []\n",
    "\n",
    "# Container to mark indices to be removed\n",
    "mask = torch.ones(train_labels.size(0), dtype=torch.bool, device=device)\n",
    "\n",
    "# Extract 100 samples for each class\n",
    "for class_idx in range(num_classes):\n",
    "    class_indices = (train_labels == class_idx).nonzero(as_tuple=True)[0]\n",
    "    selected_indices = class_indices[:samples_per_class]\n",
    "\n",
    "    extracted_data.append(train_data[selected_indices])\n",
    "    extracted_labels.append(train_labels[selected_indices])\n",
    "\n",
    "    # Mark these indices as False in the mask\n",
    "    mask[selected_indices] = False\n",
    "\n",
    "# Concatenate the extracted samples into tensors\n",
    "extracted_data = torch.cat(extracted_data, dim=0)\n",
    "extracted_labels = torch.cat(extracted_labels, dim=0)\n",
    "\n",
    "# Create new dataset tensors without the extracted samples\n",
    "remaining_data = train_data[mask]\n",
    "remaining_labels = train_labels[mask]\n",
    "\n",
    "print(f'Extracted data shape: {extracted_data.shape}')\n",
    "print(f'Remaining data shape: {remaining_data.shape}')"
   ]
  },
  {
   "cell_type": "code",
   "execution_count": 246,
   "id": "6401c0ac-7f4b-4cbe-9881-461c0c0de45a",
   "metadata": {},
   "outputs": [
    {
     "name": "stdout",
     "output_type": "stream",
     "text": [
      "torch.Size([10, 28, 28])\n"
     ]
    }
   ],
   "source": [
    "# Compute the averaged images and the treshold distance: \n",
    "extracted_data\n",
    "extracted_labels\n",
    "\n",
    "# Initialize accumulators\n",
    "num_classes = 10\n",
    "image_shape = extracted_data.shape[2:]  # Shape of MNIST images\n",
    "class_sums = torch.zeros((num_classes, *image_shape), dtype=torch.float32, device=device)\n",
    "class_counts = torch.zeros(num_classes, dtype=torch.float32, device=device)\n",
    "\n",
    "# Compute the sums and counts per class\n",
    "for i in range(num_classes):\n",
    "    class_mask = (extracted_labels == i).unsqueeze(1).unsqueeze(2).unsqueeze(3)\n",
    "    class_images = extracted_data * class_mask.float()\n",
    "    class_sums[i] = class_images.sum(dim=0)\n",
    "    class_counts[i] = class_mask.float().sum()\n",
    "\n",
    "# Compute the mean per pixel per class\n",
    "class_means = class_sums / class_counts.view(-1, 1, 1)\n",
    "\n",
    "print(class_means.shape)  # Should be (10, 28, 28)"
   ]
  },
  {
   "cell_type": "code",
   "execution_count": 255,
   "id": "72c0646c-fc7d-4eb7-86b5-10c514eb334b",
   "metadata": {},
   "outputs": [
    {
     "name": "stdout",
     "output_type": "stream",
     "text": [
      "torch.Size([1000, 1, 28, 28])\n",
      "torch.Size([1000, 1, 28, 28])\n",
      "torch.Size([1000, 1, 28, 28])\n",
      "torch.Size([1000, 1, 28, 28])\n",
      "torch.Size([1000, 1, 28, 28])\n",
      "torch.Size([1000, 1, 28, 28])\n",
      "torch.Size([1000, 1, 28, 28])\n",
      "torch.Size([1000, 1, 28, 28])\n",
      "torch.Size([1000, 1, 28, 28])\n",
      "torch.Size([1000, 1, 28, 28])\n"
     ]
    }
   ],
   "source": [
    "# Reshape class_means to match the test_data dimensions for broadcasting\n",
    "class_means = class_means.view(num_classes, 1, *image_shape)  # Reshape: (10, 1, 28, 28)\n",
    "\n",
    "# Compute the L2 distance between each test image and each class mean\n",
    "# Using broadcasting to compute (10, N, 28, 28) - (N, 28, 28) => (10, N, 28, 28)\n",
    "dists = torch.sum((extracted_data.unsqueeze(1) - class_means) ** 2, dim=(2, 3))  # Shape: (10, N)\n",
    "dists = torch.sqrt(dists)\n"
   ]
  },
  {
   "cell_type": "code",
   "execution_count": 272,
   "id": "d3b45d45-f9a3-4d09-92f4-e969636e2f91",
   "metadata": {},
   "outputs": [
    {
     "data": {
      "text/plain": [
       "torch.Size([100, 1, 784])"
      ]
     },
     "execution_count": 272,
     "metadata": {},
     "output_type": "execute_result"
    }
   ],
   "source": [
    "p = torch.randn([100, 1, 784]) - torch.randn([1, 784])\n",
    "p.shape"
   ]
  },
  {
   "cell_type": "code",
   "execution_count": 274,
   "id": "11576f12-4acb-47d7-a8ec-a9fa426fc398",
   "metadata": {},
   "outputs": [
    {
     "name": "stdout",
     "output_type": "stream",
     "text": [
      "torch.Size([1000, 1])\n"
     ]
    }
   ],
   "source": [
    "#Initialize an empty list to store the results\n",
    "result_chunks = []\n",
    "a = extracted_data.reshape(*extracted_data.shape[:2], -1)\n",
    "b = class_means.reshape(*class_means.shape[:2], -1)\n",
    "\n",
    "# Loop over each element in b and the corresponding chunk in a\n",
    "for i in range(10):\n",
    "    chunk_a = a[i*100:(i+1)*100]  # Select the chunk of 100 elements from a\n",
    "    chunk_b = b[i]  # Select the element from b and add two dimensions\n",
    "    #print(chunk_a.shape, chunk_b.shape)\n",
    "    \n",
    "    distances = torch.sum(torch.square(chunk_a - chunk_b) , dim=2) # this is the distances for all n w same label\n",
    "    distances = torch.sqrt(distances)\n",
    "    #print(\"100 ?\",distances.shape) # should be (100 distances and then u want to average them)\n",
    "    result_chunks.append(distances)  # Multiply and append the result\n",
    "\n",
    "# Concatenate all the chunks back together\n",
    "result = torch.cat(result_chunks, dim=0)\n",
    "\n",
    "print(result.shape)  "
   ]
  },
  {
   "cell_type": "code",
   "execution_count": 279,
   "id": "c1e11a4f-1d42-4c84-b990-6aed7add5206",
   "metadata": {},
   "outputs": [
    {
     "name": "stdout",
     "output_type": "stream",
     "text": [
      "Average values: tensor([6.9448, 4.7728, 7.1184, 6.6091, 6.2137, 6.6941, 6.0981, 5.9110, 6.2883,\n",
      "        5.8607], device='cuda:7')\n"
     ]
    }
   ],
   "source": [
    "reshaped_a = result.view(10, 100)\n",
    "\n",
    "# Sum and average the values along the second dimension (axis 1)\n",
    "sum_values = reshaped_a.sum(dim=1)\n",
    "average_values = reshaped_a.mean(dim=1)\n",
    "\n",
    "print(f'Average values: {average_values}')"
   ]
  },
  {
   "cell_type": "code",
   "execution_count": 280,
   "id": "ac6c26f9-252a-47be-8d5b-35ca197ceff4",
   "metadata": {},
   "outputs": [],
   "source": [
    "warmup_thresholds=  average_values"
   ]
  },
  {
   "cell_type": "code",
   "execution_count": 282,
   "id": "c72c37d3-e580-46c1-9a5e-68a0fb69de50",
   "metadata": {},
   "outputs": [
    {
     "data": {
      "text/plain": [
       "torch.Size([10, 784])"
      ]
     },
     "execution_count": 282,
     "metadata": {},
     "output_type": "execute_result"
    }
   ],
   "source": [
    "warmup_representations = class_means.reshape(class_means.shape[0], -1)\n",
    "warmup_representations.shape"
   ]
  },
  {
   "cell_type": "markdown",
   "id": "3effb626-81fa-4bb2-bc34-f510806f041c",
   "metadata": {},
   "source": [
    "### Network"
   ]
  },
  {
   "cell_type": "code",
   "execution_count": 299,
   "id": "a887e9fd-ce54-4346-bb7c-d29c9b734ca1",
   "metadata": {},
   "outputs": [],
   "source": [
    "class CustomNetwork(nn.Module):\n",
    "    def __init__(self, input_shape, num_classes, max_neurons, warmup_size, warmup_representation):\n",
    "        super(CustomNetwork, self).__init__()\n",
    "        \n",
    "        #self.distance_threshold = torch.tensor([7.0076, 4.8702, 7.0092, 6.5455, 6.4295, 6.6409, 6.5635, 5.8766, 6.5613,5.9182], device= device)*1.20\n",
    "\n",
    "        ## WARMUP\n",
    "        self.distance_threshold = torch.tensor([6.9448, 4.7728, 7.1184, 6.6091, 6.2137, 6.6941, 6.0981, 5.9110, 6.2883,\n",
    "        5.8607], device= device)\n",
    "\n",
    "        \n",
    "        \n",
    "        #torch.zeros(10) # contains the thresholds per neuron.\n",
    "        self.input_shape = input_shape\n",
    "        self.max_neurons = max_neurons\n",
    "        self.warmup_size = warmup_size\n",
    "        \n",
    "        # Initialize neurons tensor\n",
    "        # Each row: [label, flattened memory tensor, update counter]\n",
    "        self.neurons = torch.zeros((max_neurons, 1 + input_shape[0] * input_shape[1] + 1))\n",
    "        self.neurons[:, 0] = -1 # uninitalized labels\n",
    "        self.neurons[:num_classes, 0] = torch.arange(num_classes, dtype=torch.float32) # initialize the labels supposing its [0,numclass-1]\n",
    "        self.neurons[:, -1] = 0  # Initialize counters to 0\n",
    "        # Put the tensor in device\n",
    "        self.neurons = self.neurons.to(device)\n",
    "\n",
    "        self.current_neurons = num_classes # initial occupied neurons , 10.\n",
    "\n",
    "        # WARMUP\n",
    "        self.neurons[:num_classes, 1:-1] = warmup_representation # INITIALIZE 10 NEURONS\n",
    "\n",
    "    def forward(self, x):\n",
    "        pass\n",
    "\n",
    "    def train_network(self, train_data, labels):\n",
    "\n",
    "        for i, (input_tensor, label) in enumerate(zip(train_data,labels)):\n",
    "            #if i>1000:\n",
    "            #    break\n",
    "            input_tensor = input_tensor.view(-1)  # Flatten the input tensor\n",
    "            label = label.item()  # Assuming label is a single element tensor\n",
    "\n",
    "            ############\n",
    "            label_mask = self.neurons[:, 0] == label\n",
    "            #print(\"LABEL\", label)\n",
    "            label_indices = torch.nonzero(label_mask)\n",
    "            #print(input_tensor.shape,  self.neurons.shape, self.neurons[label_mask][:, 1:-1].shape)\n",
    "            #torch.Size([784]) torch.Size([1000, 786]) torch.Size([1, 784])\n",
    "            #print(label_mask)\n",
    "            #this is only for the first inputs to prevent 0 division for the first 10 initialized neurons / warmup\n",
    "            w = self.neurons[label_mask][:, -1]\n",
    "            if(self.current_neurons == 10):\n",
    "                w = torch.where(w != 0, w, torch.ones_like(w))\n",
    "                #print(w)\n",
    "                \n",
    "            d = self.neurons[label_mask][:, 1:-1] * 1/w.unsqueeze(1)\n",
    "            \n",
    "            distances = torch.sum(torch.square(input_tensor - d) , dim=1) # this is the distances for all n w same label\n",
    "            distances = torch.sqrt(distances)\n",
    "            #print('distances',distances)\n",
    "\n",
    "\n",
    "            #distances = torch.norm(input_tensor - self.neurons[label_mask][:, 1:-1] , dim=1) # this is the distances for all n w same label\n",
    "            min_index = torch.min(distances, dim=0)[1].item() #gives the index of the minimum.\n",
    "            #print(\"WTF\")\n",
    "            #print(torch.min(distances, dim=0)[1].item())\n",
    "            #closest_distance_mask = distances == torch.min(distances)\n",
    "            #break\n",
    "\n",
    "            # if the closest_distance_mask isn't empty or if the max number of neurons has been reached\n",
    "            if (distances[min_index] < self.distance_threshold[label]) or (self.current_neurons >= self.max_neurons) or i<self.warmup_size :\n",
    "                # debugging\n",
    "                #if (distances[closest_distance_mask] < self.distance_threshold[label]):\n",
    "                    #print('add into existing neuron',distances[closest_distance_mask] )\n",
    "        \n",
    "                #if (not(self.current_neurons < self.max_neurons) and i%1000):\n",
    "                    #print('add into the closest neuron because memory full ', distances[closest_distance_mask], distances)\n",
    "\n",
    "                #else:\n",
    "                    #print('Warmup', distances[closest_distance_mask])\n",
    "\n",
    "                    \n",
    "                closest_distance_index = label_indices[min_index]\n",
    "                \n",
    "                #print(\"adding to index \", closest_distance_index)\n",
    "                self.neurons[closest_distance_index, -1] += 1 # update counter\n",
    "\n",
    "                \n",
    "                #weight = 1/self.neurons[closest_distance_index, -1] #get counter for update\n",
    "                #print('WEIGHT', weight)\n",
    "                #print('UPDATE', input_tensor.unsqueeze(0) * weight)\n",
    "                #update = self.neurons[closest_distance_index, 1:-1] + input_tensor\n",
    "                self.neurons[closest_distance_index, 1:-1] += input_tensor # here you would do the average operation\n",
    "                \n",
    "            # if self.current_neurons < self.max_neurons //// memory isn't full\n",
    "            else:\n",
    "                #find empty neurons and get in the first one: \n",
    "                #print(distances)\n",
    "                masko = self.neurons[:, 0] == -1\n",
    "\n",
    "                label_indices = torch.arange(self.neurons.shape[0], dtype=torch.float32)\n",
    "\n",
    "                first_index = int(label_indices[masko][0].item())\n",
    "\n",
    "                #print('add into a new neuron: ', first_index)\n",
    "\n",
    "\n",
    "                self.neurons[first_index, 0] = label\n",
    "                self.neurons[first_index, 1:-1] = input_tensor\n",
    "                self.neurons[first_index, -1] = 1\n",
    "                # if none found this is a omega bug\n",
    "                \n",
    "                # Add the new neuron to the neurons tensor\n",
    "                self.current_neurons += 1\n",
    "            \n",
    "    def predict(self, input_tensors):\n",
    "        \n",
    "        input_tensors = input_tensors.reshape(*input_tensors.shape[:2],-1)  # Flatten the input tensors #(20k, 784) - (20, 784)\n",
    "\n",
    "        w = self.neurons[:, -1]\n",
    "       \n",
    "        d = self.neurons[:, 1:-1] * 1/w.unsqueeze(1)\n",
    "        # remove uninitialized neurons\n",
    "        mask = self.neurons[:,0] != -1\n",
    "        print('mask', mask.shape)\n",
    "\n",
    "        last_column = self.neurons[:, 0]\n",
    "        count_equal_to_minus_one = (last_column == -1).sum().item()\n",
    "        print(\"elements\", count_equal_to_minus_one)\n",
    "        \n",
    "        distances = torch.sum(torch.square(input_tensors - d[mask]) , dim=2) # this is the distances for all n w same label\n",
    "        distances = torch.sqrt(distances) #shape inputs, neurons\n",
    "\n",
    "        predictions = torch.min(distances, dim=1)[1]# indexes of the neurons\n",
    "        predicted_labels = self.neurons[predictions, 0]\n",
    "        #print(predicted_labels.shape)\n",
    "        \n",
    "        return predicted_labels\n",
    "\n",
    "    def get_neuron_tensors(self): \n",
    "        return self.neurons"
   ]
  },
  {
   "cell_type": "markdown",
   "id": "d807931a-3c42-4425-8b74-520a70474680",
   "metadata": {},
   "source": [
    "# 100 neurons"
   ]
  },
  {
   "cell_type": "code",
   "execution_count": 140,
   "id": "6e87bc7f-ca84-47d0-9adb-7f2e43a50f5e",
   "metadata": {},
   "outputs": [],
   "source": [
    "# Testing Adding Neurons\n",
    "input_shape = (28, 28)  # Example input shape (e.g., 28x28 images)\n",
    "num_classes = 10\n",
    "max_neurons = 100\n",
    "warmup_size = 100 # number of inputs used to initialize our neurons\n",
    "\n",
    "networkTestAdd = CustomNetwork(input_shape, num_classes, max_neurons, warmup_size)"
   ]
  },
  {
   "cell_type": "code",
   "execution_count": 141,
   "id": "7bf197f9-7734-40da-83a5-dc4e83f3289b",
   "metadata": {},
   "outputs": [],
   "source": [
    "networkTestAdd.train_network(train_data,train_labels)"
   ]
  },
  {
   "cell_type": "code",
   "execution_count": 142,
   "id": "0cfb0b20-64e6-43b2-99a3-8eb449f3393e",
   "metadata": {},
   "outputs": [
    {
     "data": {
      "text/plain": [
       "torch.Size([100, 786])"
      ]
     },
     "execution_count": 142,
     "metadata": {},
     "output_type": "execute_result"
    }
   ],
   "source": [
    "brain = networkTestAdd.get_neuron_tensors()\n",
    "brain.shape"
   ]
  },
  {
   "cell_type": "code",
   "execution_count": 145,
   "id": "58eb38f0-b571-4e53-8aba-61febb9bafb2",
   "metadata": {},
   "outputs": [
    {
     "data": {
      "text/plain": [
       "tensor([2.3500e+03, 2.0770e+03, 1.5510e+03, 1.4090e+03, 2.2030e+03, 1.1610e+03,\n",
       "        1.3550e+03, 1.4820e+03, 1.8380e+03, 1.6490e+03, 7.3100e+02, 5.1000e+02,\n",
       "        4.5400e+02, 4.3600e+02, 1.7390e+03, 5.3700e+02, 5.8000e+02, 7.2400e+02,\n",
       "        3.5800e+02, 8.0700e+02, 7.4900e+02, 9.1200e+02, 6.5100e+02, 1.0080e+03,\n",
       "        1.0490e+03, 6.8000e+01, 8.8700e+02, 7.7400e+02, 3.7600e+02, 1.1030e+03,\n",
       "        2.2320e+03, 1.0000e+02, 1.2840e+03, 1.4030e+03, 1.9400e+02, 8.5900e+02,\n",
       "        6.6000e+01, 2.2600e+02, 4.2000e+01, 8.3000e+01, 1.0950e+03, 6.8000e+02,\n",
       "        3.5800e+02, 5.8100e+02, 4.8100e+02, 1.6500e+02, 2.6200e+02, 2.7400e+02,\n",
       "        5.0200e+02, 1.9900e+02, 6.6000e+01, 2.2700e+02, 7.0500e+02, 1.3840e+03,\n",
       "        2.1000e+01, 8.8800e+02, 5.5100e+02, 4.0000e+00, 2.1200e+02, 2.7400e+02,\n",
       "        1.1500e+02, 1.3710e+03, 1.1000e+02, 4.3400e+02, 6.5000e+01, 1.0100e+02,\n",
       "        5.2900e+02, 3.6000e+02, 2.9000e+01, 6.0000e+00, 8.9500e+02, 7.4800e+02,\n",
       "        8.3600e+02, 1.6700e+02, 2.4300e+02, 1.0300e+02, 1.0400e+02, 3.9200e+02,\n",
       "        8.7000e+01, 2.7000e+02, 2.9400e+02, 1.0000e+01, 1.5300e+02, 5.3400e+02,\n",
       "        3.3000e+01, 4.1800e+02, 6.0000e+01, 1.0000e+00, 4.0700e+02, 1.8700e+02,\n",
       "        4.8500e+02, 2.1900e+02, 6.5200e+02, 4.4000e+02, 5.0000e+00, 5.3600e+02,\n",
       "        4.4400e+02, 2.3100e+02, 8.2400e+02, 1.5600e+02], device='cuda:7')"
      ]
     },
     "execution_count": 145,
     "metadata": {},
     "output_type": "execute_result"
    }
   ],
   "source": [
    "brain[:,-1]"
   ]
  },
  {
   "cell_type": "code",
   "execution_count": 146,
   "id": "ea481218-464b-473a-8ea0-a935be7f551f",
   "metadata": {},
   "outputs": [
    {
     "name": "stdout",
     "output_type": "stream",
     "text": [
      "W SHAPE torch.Size([100])\n",
      "brain torch.Size([100, 784])\n",
      "torch.Size([10000])\n"
     ]
    }
   ],
   "source": [
    "predictions = networkTestAdd.predict(test_data)"
   ]
  },
  {
   "cell_type": "code",
   "execution_count": 147,
   "id": "d0994d4a-228a-4800-a58c-77d072add994",
   "metadata": {},
   "outputs": [
    {
     "name": "stdout",
     "output_type": "stream",
     "text": [
      "Accuracy: 90.00%\n"
     ]
    }
   ],
   "source": [
    "correct_predictions = (predictions == test_labels)\n",
    "\n",
    "accuracy = correct_predictions.sum().item() / len(test_labels)\n",
    "\n",
    "print(f'Accuracy: {accuracy * 100:.2f}%')"
   ]
  },
  {
   "cell_type": "code",
   "execution_count": 61,
   "id": "2c0676dd-74b6-4e99-bb55-55b834cfd4bf",
   "metadata": {},
   "outputs": [
    {
     "data": {
      "text/plain": [
       "tensor([5923., 6742., 5958., 6131., 5842., 5421., 5918., 6265., 5851., 5949.],\n",
       "       device='cuda:7')"
      ]
     },
     "execution_count": 61,
     "metadata": {},
     "output_type": "execute_result"
    }
   ],
   "source": [
    "brain[:,-1]"
   ]
  },
  {
   "cell_type": "code",
   "execution_count": 62,
   "id": "5d459c87-b280-437c-b70d-3633d77ae5af",
   "metadata": {},
   "outputs": [
    {
     "data": {
      "image/png": "[encoded data removed]",
      "text/plain": [
       "<Figure size 640x480 with 1 Axes>"
      ]
     },
     "metadata": {},
     "output_type": "display_data"
    }
   ],
   "source": [
    "show_image(brain[9,1:-1].reshape(28,28))"
   ]
  },
  {
   "cell_type": "code",
   "execution_count": 63,
   "id": "e0d2dd38-5714-4469-9ea6-f8fb9b5f9f8a",
   "metadata": {},
   "outputs": [
    {
     "data": {
      "image/png": "[encoded data removed]",
      "text/plain": [
       "<Figure size 640x480 with 1 Axes>"
      ]
     },
     "metadata": {},
     "output_type": "display_data"
    }
   ],
   "source": [
    "show_image(brain[0,1:-1].reshape(28,28))"
   ]
  },
  {
   "cell_type": "markdown",
   "id": "cd7838a6-5b5a-4a73-b4bd-dab59feb74ce",
   "metadata": {},
   "source": [
    "### 500 neurons"
   ]
  },
  {
   "cell_type": "code",
   "execution_count": 158,
   "id": "75e478ed-7f1b-4fdd-b8a9-c714efab7ccb",
   "metadata": {},
   "outputs": [],
   "source": [
    "# Testing Adding Neurons\n",
    "input_shape = (28, 28)  # Example input shape (e.g., 28x28 images)\n",
    "num_classes = 10\n",
    "max_neurons = 500\n",
    "warmup_size = 100 # number of inputs used to initialize our neurons\n",
    "\n",
    "networkTestAdd1 = CustomNetwork(input_shape, num_classes, max_neurons, warmup_size)"
   ]
  },
  {
   "cell_type": "code",
   "execution_count": 159,
   "id": "433454f8-26d5-423f-923b-270640cafe0e",
   "metadata": {},
   "outputs": [],
   "source": [
    "networkTestAdd1.train_network(train_data,train_labels)"
   ]
  },
  {
   "cell_type": "code",
   "execution_count": 160,
   "id": "e5994317-6296-4724-842d-d41912a3b138",
   "metadata": {},
   "outputs": [
    {
     "data": {
      "text/plain": [
       "torch.Size([500, 786])"
      ]
     },
     "execution_count": 160,
     "metadata": {},
     "output_type": "execute_result"
    }
   ],
   "source": [
    "brain1 = networkTestAdd1.get_neuron_tensors()\n",
    "brain1.shape"
   ]
  },
  {
   "cell_type": "code",
   "execution_count": 161,
   "id": "41549bdd-0284-40b7-94e8-6010ea565f49",
   "metadata": {
    "scrolled": true
   },
   "outputs": [
    {
     "name": "stdout",
     "output_type": "stream",
     "text": [
      "W SHAPE torch.Size([500])\n",
      "brain torch.Size([500, 784])\n",
      "torch.Size([10000])\n"
     ]
    }
   ],
   "source": [
    "predictions1 = networkTestAdd1.predict(test_data)"
   ]
  },
  {
   "cell_type": "code",
   "execution_count": 163,
   "id": "a032a437-c668-4d2b-8fdb-b9a5360001b6",
   "metadata": {},
   "outputs": [
    {
     "name": "stdout",
     "output_type": "stream",
     "text": [
      "Accuracy: 92.06%\n"
     ]
    }
   ],
   "source": [
    "correct_predictions = (predictions1 == test_labels)\n",
    "\n",
    "accuracy = correct_predictions.sum().item() / len(test_labels)\n",
    "\n",
    "print(f'Accuracy: {accuracy * 100:.2f}%')"
   ]
  },
  {
   "cell_type": "markdown",
   "id": "ecf0414a-9769-490e-9111-848715ffb7a5",
   "metadata": {},
   "source": [
    "### 1000 neurons"
   ]
  },
  {
   "cell_type": "code",
   "execution_count": 294,
   "id": "cf06dee2-1f89-4ae3-ae99-86af355494ea",
   "metadata": {},
   "outputs": [],
   "source": [
    "# Testing Adding Neurons\n",
    "input_shape = (28, 28)  # Example input shape (e.g., 28x28 images)\n",
    "num_classes = 10\n",
    "max_neurons = 1000\n",
    "warmup_size = 100 # number of inputs used to initialize our neurons\n",
    "\n",
    "ThousandNeuronNet = CustomNetwork(input_shape, num_classes, max_neurons, warmup_size, warmup_representations)\n",
    "ThousandNeuronNet = ThousandNeuronNet.to(device)\n",
    "\n",
    "#Train\n",
    "ThousandNeuronNet.train_network(train_data,train_labels)"
   ]
  },
  {
   "cell_type": "code",
   "execution_count": 295,
   "id": "2b085b18-2d55-45c9-866c-4b75ba1e2f51",
   "metadata": {},
   "outputs": [],
   "source": [
    "t = ThousandNeuronNet.get_neuron_tensors()"
   ]
  },
  {
   "cell_type": "code",
   "execution_count": 296,
   "id": "5eb67230-a751-4192-be1f-afbb3b3181f7",
   "metadata": {},
   "outputs": [],
   "source": [
    "# Out of 1000 intial nuerons 462 were never used."
   ]
  },
  {
   "cell_type": "code",
   "execution_count": 297,
   "id": "a159c138-721d-4dfb-a5d4-d4c3c8d720db",
   "metadata": {},
   "outputs": [
    {
     "data": {
      "text/plain": [
       "345"
      ]
     },
     "execution_count": 297,
     "metadata": {},
     "output_type": "execute_result"
    }
   ],
   "source": [
    "last_column = t[:, 0]\n",
    "count_equal_to_minus_one = (last_column == -1).sum().item()\n",
    "count_equal_to_minus_one"
   ]
  },
  {
   "cell_type": "code",
   "execution_count": 241,
   "id": "46a39c6b-401e-433c-a092-fa664bca554c",
   "metadata": {},
   "outputs": [
    {
     "data": {
      "text/plain": [
       "torch.Size([10000, 1, 28, 28])"
      ]
     },
     "execution_count": 241,
     "metadata": {},
     "output_type": "execute_result"
    }
   ],
   "source": [
    "test_data.shape"
   ]
  },
  {
   "cell_type": "code",
   "execution_count": 298,
   "id": "40712b39-4fac-4687-b9a7-c9d372a61e45",
   "metadata": {},
   "outputs": [
    {
     "name": "stdout",
     "output_type": "stream",
     "text": [
      "mask torch.Size([1000])\n",
      "elements 345\n",
      "mask torch.Size([1000])\n",
      "elements 345\n",
      "PREDICTIONS torch.Size([10000])\n",
      "Accuracy: 92.63%\n"
     ]
    }
   ],
   "source": [
    "#Predict\n",
    "# Split the test data into two halves\n",
    "half_size = test_data.size(0) // 2\n",
    "test_data_first_half = test_data[:half_size]\n",
    "test_data_second_half = test_data[half_size:]\n",
    "\n",
    "predictions_first_half = ThousandNeuronNet.predict(test_data_first_half)\n",
    "\n",
    "predictions_second_half = ThousandNeuronNet.predict(test_data_second_half)\n",
    "predictions = torch.cat((predictions_first_half, predictions_second_half), dim=0)\n",
    "print('PREDICTIONS',predictions.shape)\n",
    "\n",
    "\n",
    "correct_predictions = (predictions == test_labels)\n",
    "\n",
    "accuracy = correct_predictions.sum().item() / len(test_labels)\n",
    "\n",
    "print(f'Accuracy: {accuracy * 100:.2f}%')"
   ]
  },
  {
   "cell_type": "markdown",
   "id": "731f4c5b-079c-4cdb-9500-f062372673bf",
   "metadata": {},
   "source": [
    "### WARMUP"
   ]
  },
  {
   "cell_type": "markdown",
   "id": "fe8ed51f-ebce-4352-8999-887cee5025a8",
   "metadata": {},
   "source": [
    "100 neurons"
   ]
  },
  {
   "cell_type": "code",
   "execution_count": 300,
   "id": "d0112f62-7ba3-401d-9c1c-e49457703bc5",
   "metadata": {},
   "outputs": [],
   "source": [
    "# Testing Adding Neurons\n",
    "input_shape = (28, 28)  # Example input shape (e.g., 28x28 images)\n",
    "num_classes = 10\n",
    "max_neurons = 100\n",
    "warmup_size = 100 # number of inputs used to initialize our neurons\n",
    "\n",
    "networkTestAdd = CustomNetwork(input_shape, num_classes, max_neurons, warmup_size, warmup_representations)"
   ]
  },
  {
   "cell_type": "code",
   "execution_count": 301,
   "id": "92a85dc9-41e0-40aa-a8b4-10a5dc0d5b81",
   "metadata": {},
   "outputs": [],
   "source": [
    "networkTestAdd.train_network(train_data,train_labels)"
   ]
  },
  {
   "cell_type": "code",
   "execution_count": 302,
   "id": "815d9e0c-f44d-4392-8b1d-61cab32b8a66",
   "metadata": {},
   "outputs": [
    {
     "name": "stdout",
     "output_type": "stream",
     "text": [
      "mask torch.Size([100])\n",
      "elements 0\n"
     ]
    }
   ],
   "source": [
    "predictions = networkTestAdd.predict(test_data)"
   ]
  },
  {
   "cell_type": "code",
   "execution_count": 303,
   "id": "7160c8a7-a64c-4737-bde0-36d13e01e68a",
   "metadata": {},
   "outputs": [
    {
     "name": "stdout",
     "output_type": "stream",
     "text": [
      "Accuracy: 91.60%\n"
     ]
    }
   ],
   "source": [
    "correct_predictions = (predictions == test_labels)\n",
    "\n",
    "accuracy = correct_predictions.sum().item() / len(test_labels)\n",
    "\n",
    "print(f'Accuracy: {accuracy * 100:.2f}%')"
   ]
  },
  {
   "cell_type": "code",
   "execution_count": 304,
   "id": "aef32fa6-5746-4342-a737-8fe72cf0dbdc",
   "metadata": {},
   "outputs": [
    {
     "data": {
      "text/plain": [
       "torch.Size([100, 786])"
      ]
     },
     "execution_count": 304,
     "metadata": {},
     "output_type": "execute_result"
    }
   ],
   "source": [
    "p = networkTestAdd.get_neuron_tensors()\n",
    "p.shape"
   ]
  },
  {
   "cell_type": "code",
   "execution_count": 305,
   "id": "9db477e3-b0f6-4d75-8e2c-8cd5ad1487f5",
   "metadata": {},
   "outputs": [
    {
     "data": {
      "text/plain": [
       "tensor([ 878., 1644.,  847., 1551., 1536.,  884.,  976., 1005., 1318., 1548.,\n",
       "         506.,  351., 1207.,  750.,  326.,  155.,  748.,   48., 1329.,  764.,\n",
       "         876.,   96.,  309.,  189.,  470.,  987.,  914., 1638.,  279.,  154.,\n",
       "         545.,  564.,  323.,  482.,  539.,  358.,  217.,  377.,  249.,  908.,\n",
       "         254., 1117.,  437., 1223.,  637.,  169.,  751.,  312.,  597.,  642.,\n",
       "         615.,  396.,   70.,  744.,  124.,  766.,  602.,  697.,  600.,  279.,\n",
       "         692.,  523.,  848.,  575.,  472.,  619.,  425.,  223.,  456.,   73.,\n",
       "         466.,  603.,  552.,  577.,  502., 1309.,  580.,  666.,  657.,  156.,\n",
       "         186.,  474.,  178.,  836.,  787.,  880.,  386.,  111.,  358.,  977.,\n",
       "         180.,  578.,  116.,  104.,  196.,  467.,  499.,  802.,  800.,  234.],\n",
       "       device='cuda:7')"
      ]
     },
     "execution_count": 305,
     "metadata": {},
     "output_type": "execute_result"
    }
   ],
   "source": [
    "p[:, -1]"
   ]
  },
  {
   "cell_type": "code",
   "execution_count": 306,
   "id": "e72aa993-336a-4609-b480-e09f226fc520",
   "metadata": {},
   "outputs": [
    {
     "data": {
      "text/plain": [
       "tensor([0., 1., 2., 3., 4., 5., 6., 7., 8., 9., 5., 7., 1., 3., 0., 2., 9., 3.,\n",
       "        1., 0., 9., 2., 2., 0., 2., 6., 4., 1., 5., 1., 5., 7., 7., 2., 8., 8.,\n",
       "        7., 4., 9., 0., 7., 8., 2., 9., 4., 7., 9., 2., 3., 2., 3., 6., 2., 8.,\n",
       "        2., 4., 7., 1., 0., 3., 0., 7., 2., 7., 0., 6., 5., 2., 6., 1., 8., 3.,\n",
       "        0., 5., 6., 8., 6., 3., 5., 0., 3., 2., 2., 3., 6., 7., 0., 2., 9., 5.,\n",
       "        2., 4., 6., 5., 9., 5., 6., 7., 4., 4.], device='cuda:7')"
      ]
     },
     "execution_count": 306,
     "metadata": {},
     "output_type": "execute_result"
    }
   ],
   "source": [
    "p[:,0]"
   ]
  },
  {
   "cell_type": "code",
   "execution_count": 318,
   "id": "cfadf24b-c3d6-4119-90d5-eeba7d6526a0",
   "metadata": {},
   "outputs": [
    {
     "data": {
      "text/plain": [
       "tensor(48., device='cuda:7')"
      ]
     },
     "execution_count": 318,
     "metadata": {},
     "output_type": "execute_result"
    }
   ],
   "source": [
    "p[17, -1]"
   ]
  },
  {
   "cell_type": "code",
   "execution_count": 317,
   "id": "e5a20515-2037-4494-8196-3cd3c617d251",
   "metadata": {},
   "outputs": [
    {
     "data": {
      "image/png": "[encoded data removed]",
      "text/plain": [
       "<Figure size 640x480 with 1 Axes>"
      ]
     },
     "metadata": {},
     "output_type": "display_data"
    }
   ],
   "source": [
    "show_image(p[17, 1:-1].reshape(28,28))"
   ]
  },
  {
   "cell_type": "code",
   "execution_count": 320,
   "id": "d45f5693-90af-441c-b1e9-b1605bcfd02f",
   "metadata": {},
   "outputs": [
    {
     "data": {
      "image/png": "[encoded data removed]",
      "text/plain": [
       "<Figure size 640x480 with 1 Axes>"
      ]
     },
     "metadata": {},
     "output_type": "display_data"
    }
   ],
   "source": [
    "show_image(p[3, 1:-1].reshape(28,28))"
   ]
  },
  {
   "cell_type": "code",
   "execution_count": null,
   "id": "faaa2af8-86ba-49e0-979a-8bcbeef14444",
   "metadata": {},
   "outputs": [],
   "source": []
  }
 ],
 "metadata": {
  "kernelspec": {
   "display_name": "Python 3 (ipykernel)",
   "language": "python",
   "name": "python3"
  },
  "language_info": {
   "codemirror_mode": {
    "name": "ipython",
    "version": 3
   },
   "file_extension": ".py",
   "mimetype": "text/x-python",
   "name": "python",
   "nbconvert_exporter": "python",
   "pygments_lexer": "ipython3",
   "version": "3.8.10"
  }
 },
 "nbformat": 4,
 "nbformat_minor": 5
}
